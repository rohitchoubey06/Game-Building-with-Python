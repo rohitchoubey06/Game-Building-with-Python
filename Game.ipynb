{
 "cells": [
  {
   "cell_type": "code",
   "execution_count": 2,
   "id": "2fb07b9f",
   "metadata": {},
   "outputs": [],
   "source": [
    "import random "
   ]
  },
  {
   "cell_type": "code",
   "execution_count": 6,
   "id": "6657ddeb",
   "metadata": {},
   "outputs": [
    {
     "name": "stdout",
     "output_type": "stream",
     "text": [
      "Computer's Turn : stone, paper, scissor\n",
      "Enter your input: stone, paper, scissorpaper\n",
      "You lose\n"
     ]
    }
   ],
   "source": [
    "def Gamewin(computer,you):\n",
    "    if computer==you:\n",
    "        return None\n",
    "    elif computer == 'stone':\n",
    "        if you == 'scissor':\n",
    "            return False\n",
    "        elif computer == 'stone':\n",
    "            if you == 'paper':\n",
    "                return True\n",
    "    \n",
    "    elif computer == 'paper':\n",
    "        if you == 'stone':\n",
    "            return False\n",
    "        elif computer == 'paper':\n",
    "            if you == 'scissor':\n",
    "                return True\n",
    "            \n",
    "    elif computer == 'scissor':\n",
    "        if you == 'paper':\n",
    "            return False\n",
    "        elif computer == 'scissor':\n",
    "            if you == 'stone':\n",
    "                return True\n",
    "            \n",
    "print(\"Computer's Turn : stone, paper, scissor\")\n",
    "\n",
    "random_no = random.randint(1,3)\n",
    "\n",
    "if random_no == 1:\n",
    "    computer = 'stone'\n",
    "elif random_no == 2:\n",
    "    computer = 'paper'\n",
    "elif random_no == 3:\n",
    "    computer = 'scissor'\n",
    "    \n",
    "you = input('Enter your input: stone, paper, scissor')\n",
    "\n",
    "a = Gamewin(computer,you)\n",
    "if a == None:\n",
    "    print('The Game is a Tie')\n",
    "elif a == True:\n",
    "    print('You Win')\n",
    "else:\n",
    "    print('You lose')\n",
    "    \n",
    "    \n"
   ]
  },
  {
   "cell_type": "code",
   "execution_count": null,
   "id": "821f405f",
   "metadata": {},
   "outputs": [],
   "source": [
    "#hurray"
   ]
  },
  {
   "cell_type": "code",
   "execution_count": null,
   "id": "db116054",
   "metadata": {},
   "outputs": [],
   "source": []
  },
  {
   "cell_type": "code",
   "execution_count": null,
   "id": "22616b6b",
   "metadata": {},
   "outputs": [],
   "source": []
  }
 ],
 "metadata": {
  "kernelspec": {
   "display_name": "Python 3 (ipykernel)",
   "language": "python",
   "name": "python3"
  },
  "language_info": {
   "codemirror_mode": {
    "name": "ipython",
    "version": 3
   },
   "file_extension": ".py",
   "mimetype": "text/x-python",
   "name": "python",
   "nbconvert_exporter": "python",
   "pygments_lexer": "ipython3",
   "version": "3.9.7"
  }
 },
 "nbformat": 4,
 "nbformat_minor": 5
}
